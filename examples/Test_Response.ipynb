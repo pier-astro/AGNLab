{
 "cells": [
  {
   "cell_type": "code",
   "execution_count": 1,
   "id": "10bfaea0",
   "metadata": {},
   "outputs": [],
   "source": [
    "%matplotlib widget\n",
    "import numpy as np\n",
    "import matplotlib.pyplot as plt\n",
    "\n",
    "import fantasy_agn.models as FantasyModels\n",
    "from fantasy_agn.tools import make_spec\n",
    "\n",
    "import agnfitlab.models as AGNFitLabModels\n",
    "import agnfitlab.instrument as inst"
   ]
  },
  {
   "cell_type": "code",
   "execution_count": 2,
   "id": "1e2681c5",
   "metadata": {},
   "outputs": [],
   "source": [
    "wmin = 5000\n",
    "wmax = 6000"
   ]
  },
  {
   "cell_type": "code",
   "execution_count": 3,
   "id": "3613c3cc",
   "metadata": {},
   "outputs": [
    {
     "name": "stdout",
     "output_type": "stream",
     "text": [
      "Directory  testfit/  Created \n"
     ]
    }
   ],
   "source": [
    "path_to_folder='testfit/'\n",
    "FantasyModels.create_input_folder(xmin=wmin, xmax=wmax, path_to_folder=path_to_folder)\n",
    "AGNFitLabModels.set_path(path_to_folder)\n",
    "\n",
    "# Create a fake spectrum starting from a very narrow model\n",
    "narrow_m = AGNFitLabModels.create_fixed_model(['narrow_plus.csv'], name='Test',\n",
    "                                         fwhm=10, min_fwhm=1e-5, max_fwhm=1000,\n",
    "                                         offset=0., min_offset=-500, max_offset=500,\n",
    "                                         amplitude=10, min_amplitude=0, max_amplitude=1000,\n",
    "                                         profile='lorentz')"
   ]
  },
  {
   "cell_type": "code",
   "execution_count": 4,
   "id": "508874eb",
   "metadata": {},
   "outputs": [
    {
     "data": {
      "text/html": [
       "<style>/*\n",
       "Copyright (C) 2020  Smithsonian Astrophysical Observatory\n",
       "\n",
       "\n",
       " This program is free software; you can redistribute it and/or modify\n",
       " it under the terms of the GNU General Public License as published by\n",
       " the Free Software Foundation; either version 3 of the License, or\n",
       " (at your option) any later version.\n",
       "\n",
       " This program is distributed in the hope that it will be useful,\n",
       " but WITHOUT ANY WARRANTY; without even the implied warranty of\n",
       " MERCHANTABILITY or FITNESS FOR A PARTICULAR PURPOSE.  See the\n",
       " GNU General Public License for more details.\n",
       "\n",
       " You should have received a copy of the GNU General Public License along\n",
       " with this program; if not, write to the Free Software Foundation, Inc.,\n",
       " 51 Franklin Street, Fifth Floor, Boston, MA 02110-1301 USA.\n",
       "\n",
       "*/\n",
       "\n",
       ":root {\n",
       "  --sherpa-border-color: var(--jp-border-color2, #e0e0e0);\n",
       "  --sherpa-background-color: var(--jp-layout-color0, white);\n",
       "  --sherpa-background-color-row-even: var(--jp-layout-color1, white);\n",
       "  --sherpa-background-color-row-odd: var(--jp-layout-color2, #eeeeee);\n",
       "\n",
       "  /* https://medium.com/ge-design/iot-cool-gray-is-a-great-background-color-for-data-visualization-ebf18c318418 */\n",
       "  --sherpa-background-color-dark1: #EBEFF2;\n",
       "  --sherpa-background-color-dark2: #D8E0E5;\n",
       "}\n",
       "\n",
       "div.sherpa-text-fallback {\n",
       "    display: none;\n",
       "}\n",
       "\n",
       "div.sherpa {\n",
       "    display: block;\n",
       "}\n",
       "\n",
       "div.sherpa details summary {\n",
       "    display: list-item;  /* needed for notebook, not lab */\n",
       "    font-size: larger;\n",
       "}\n",
       "\n",
       "div.sherpa details div.datavals {\n",
       "    display: grid;\n",
       "    grid-template-columns: 1fr 3fr;\n",
       "    column-gap: 0.5em;\n",
       "}\n",
       "\n",
       "div.sherpa div.dataname {\n",
       "    font-weight: bold;\n",
       "    border-right: 1px solid var(--sherpa-border-color);\n",
       "}\n",
       "\n",
       "div.sherpa div.dataval { }\n",
       "\n",
       "div.sherpa div.datavals div:nth-child(4n + 1) ,\n",
       "div.sherpa div.datavals div:nth-child(4n + 2) {\n",
       "    background: var(--sherpa-background-color-row-odd);\n",
       "}\n",
       "\n",
       "div.sherpa table.model tbody {\n",
       "    border-bottom: 1px solid var(--sherpa-border-color);\n",
       "}\n",
       "\n",
       "div.sherpa table.model tr.block {\n",
       "    border-top: 1px solid var(--sherpa-border-color);\n",
       "}\n",
       "\n",
       "div.sherpa table.model th.model-odd ,\n",
       "div.sherpa table.model th.model-even {\n",
       "    border-right: 1px solid var(--sherpa-border-color);\n",
       "}\n",
       "\n",
       "div.sherpa table.model th.model-odd {\n",
       "    background: var(--sherpa-background-color-dark1);\n",
       "}\n",
       "\n",
       "div.sherpa table.model th.model-even {\n",
       "    background: var(--sherpa-background-color-dark2);\n",
       "}\n",
       "\n",
       "div.sherpa .failed {\n",
       "    background: orange;\n",
       "    font-size: large;\n",
       "    padding: 1em;\n",
       "}\n",
       "</style><div class=\"sherpa-text-fallback\">&lt;Fixed_Lines model instance &#x27;Test&#x27;&gt;</div><div hidden class=\"sherpa\"><details open><summary>Model</summary><table class=\"model\"><caption>Expression: Test</caption><thead><tr><th>Component</th><th>Parameter</th><th>Thawed</th><th>Value</th><th>Min</th><th>Max</th><th>Units</th></tr></thead><tbody><tr><th class=\"model-odd\" scope=\"rowgroup\" rowspan=11>Test</th><td>amp_TiII113_5072</td><td><input disabled type=\"checkbox\" checked></input></td><td>10.0</td><td>0.0</td><td>1000.0</td><td></td></tr><tr><td>amp_[NI]_5200</td><td><input disabled type=\"checkbox\" checked></input></td><td>10.0</td><td>0.0</td><td>1000.0</td><td></td></tr><tr><td>amp_[NII]_5755</td><td><input disabled type=\"checkbox\" checked></input></td><td>10.0</td><td>0.0</td><td>1000.0</td><td></td></tr><tr><td>amp_NII_5667</td><td><input disabled type=\"checkbox\" checked></input></td><td>10.0</td><td>0.0</td><td>1000.0</td><td></td></tr><tr><td>amp_NII_5676</td><td><input disabled type=\"checkbox\" checked></input></td><td>10.0</td><td>0.0</td><td>1000.0</td><td></td></tr><tr><td>amp_NII_5680</td><td><input disabled type=\"checkbox\" checked></input></td><td>10.0</td><td>0.0</td><td>1000.0</td><td></td></tr><tr><td>amp_NII_5686</td><td><input disabled type=\"checkbox\" checked></input></td><td>10.0</td><td>0.0</td><td>1000.0</td><td></td></tr><tr><td>amp_CIII_5696</td><td><input disabled type=\"checkbox\" checked></input></td><td>10.0</td><td>0.0</td><td>1000.0</td><td></td></tr><tr><td>amp_SiII_5958</td><td><input disabled type=\"checkbox\" checked></input></td><td>10.0</td><td>0.0</td><td>1000.0</td><td></td></tr><tr><td>offs_kms</td><td><input disabled type=\"checkbox\" checked></input></td><td>0.0</td><td>-500.0</td><td>500.0</td><td>km/s</td></tr><tr><td>fwhm</td><td><input disabled type=\"checkbox\" checked></input></td><td>10.0</td><td>1e-05</td><td>1000.0</td><td>km/s</td></tr></tbody></table></details></div>"
      ],
      "text/plain": [
       "<Fixed_Lines model instance 'Test'>"
      ]
     },
     "execution_count": 4,
     "metadata": {},
     "output_type": "execute_result"
    }
   ],
   "source": [
    "narrow_m"
   ]
  },
  {
   "cell_type": "code",
   "execution_count": 5,
   "id": "54c75bbc",
   "metadata": {},
   "outputs": [],
   "source": [
    "# Load the response matrix\n",
    "rsploader = inst.InstRspLoader(inst='MUSE')"
   ]
  },
  {
   "cell_type": "code",
   "execution_count": 6,
   "id": "082ffe35",
   "metadata": {},
   "outputs": [],
   "source": [
    "# Create the wavelength array for the fake spectrum cropping the rsploader.wave array to the wmin and wmax\n",
    "wave = rsploader.wave[(rsploader.wave >= wmin) & (rsploader.wave <= wmax)]\n",
    "\n",
    "# Create the narrow fake spectrum\n",
    "source_spectrum = narrow_m(wave)"
   ]
  },
  {
   "cell_type": "code",
   "execution_count": 7,
   "id": "e1bdf383",
   "metadata": {},
   "outputs": [],
   "source": [
    "# Crop the response matrix to the same wavelength range\n",
    "rsp_matrix = rsploader.crop_matrix(wave=wave)\n",
    "\n",
    "# Instantiate the response matrix model\n",
    "rsp = inst.SpectralRsp(rsp_matrix)\n",
    "rspmod = rsp(narrow_m)"
   ]
  },
  {
   "cell_type": "code",
   "execution_count": 8,
   "id": "d2ea5339",
   "metadata": {},
   "outputs": [],
   "source": [
    "# Simulate the spectrum adding noise to the \n",
    "observed_spectrum = rspmod(wave)\n",
    "\n",
    "err_mag = 0.2\n",
    "err = np.zeros_like(observed_spectrum) + err_mag\n",
    "observed_spectrum += np.random.normal(0, err_mag, len(observed_spectrum))"
   ]
  },
  {
   "cell_type": "code",
   "execution_count": 9,
   "id": "dcba879c",
   "metadata": {},
   "outputs": [
    {
     "name": "stdout",
     "output_type": "stream",
     "text": [
      "iteration:  1\n",
      "iteration:  2\n",
      "iteration:  3\n",
      "iteration:  4\n",
      "iteration:  5\n",
      "iteration:  6\n",
      "iteration:  7\n",
      "iteration:  8\n",
      "iteration:  9\n",
      "iteration:  10\n"
     ]
    }
   ],
   "source": [
    "# Fit the spectrum with the narrow model and with the repsonse model\n",
    "fspec = make_spec(wav=wave, fl=observed_spectrum, er=err)\n",
    "\n",
    "fspec.fit(narrow_m, ntrial=10)\n",
    "narrow_mod_arr = fspec.model(wave)"
   ]
  },
  {
   "cell_type": "code",
   "execution_count": 10,
   "id": "9ebd5337",
   "metadata": {},
   "outputs": [
    {
     "data": {
      "text/html": [
       "<style>/*\n",
       "Copyright (C) 2020  Smithsonian Astrophysical Observatory\n",
       "\n",
       "\n",
       " This program is free software; you can redistribute it and/or modify\n",
       " it under the terms of the GNU General Public License as published by\n",
       " the Free Software Foundation; either version 3 of the License, or\n",
       " (at your option) any later version.\n",
       "\n",
       " This program is distributed in the hope that it will be useful,\n",
       " but WITHOUT ANY WARRANTY; without even the implied warranty of\n",
       " MERCHANTABILITY or FITNESS FOR A PARTICULAR PURPOSE.  See the\n",
       " GNU General Public License for more details.\n",
       "\n",
       " You should have received a copy of the GNU General Public License along\n",
       " with this program; if not, write to the Free Software Foundation, Inc.,\n",
       " 51 Franklin Street, Fifth Floor, Boston, MA 02110-1301 USA.\n",
       "\n",
       "*/\n",
       "\n",
       ":root {\n",
       "  --sherpa-border-color: var(--jp-border-color2, #e0e0e0);\n",
       "  --sherpa-background-color: var(--jp-layout-color0, white);\n",
       "  --sherpa-background-color-row-even: var(--jp-layout-color1, white);\n",
       "  --sherpa-background-color-row-odd: var(--jp-layout-color2, #eeeeee);\n",
       "\n",
       "  /* https://medium.com/ge-design/iot-cool-gray-is-a-great-background-color-for-data-visualization-ebf18c318418 */\n",
       "  --sherpa-background-color-dark1: #EBEFF2;\n",
       "  --sherpa-background-color-dark2: #D8E0E5;\n",
       "}\n",
       "\n",
       "div.sherpa-text-fallback {\n",
       "    display: none;\n",
       "}\n",
       "\n",
       "div.sherpa {\n",
       "    display: block;\n",
       "}\n",
       "\n",
       "div.sherpa details summary {\n",
       "    display: list-item;  /* needed for notebook, not lab */\n",
       "    font-size: larger;\n",
       "}\n",
       "\n",
       "div.sherpa details div.datavals {\n",
       "    display: grid;\n",
       "    grid-template-columns: 1fr 3fr;\n",
       "    column-gap: 0.5em;\n",
       "}\n",
       "\n",
       "div.sherpa div.dataname {\n",
       "    font-weight: bold;\n",
       "    border-right: 1px solid var(--sherpa-border-color);\n",
       "}\n",
       "\n",
       "div.sherpa div.dataval { }\n",
       "\n",
       "div.sherpa div.datavals div:nth-child(4n + 1) ,\n",
       "div.sherpa div.datavals div:nth-child(4n + 2) {\n",
       "    background: var(--sherpa-background-color-row-odd);\n",
       "}\n",
       "\n",
       "div.sherpa table.model tbody {\n",
       "    border-bottom: 1px solid var(--sherpa-border-color);\n",
       "}\n",
       "\n",
       "div.sherpa table.model tr.block {\n",
       "    border-top: 1px solid var(--sherpa-border-color);\n",
       "}\n",
       "\n",
       "div.sherpa table.model th.model-odd ,\n",
       "div.sherpa table.model th.model-even {\n",
       "    border-right: 1px solid var(--sherpa-border-color);\n",
       "}\n",
       "\n",
       "div.sherpa table.model th.model-odd {\n",
       "    background: var(--sherpa-background-color-dark1);\n",
       "}\n",
       "\n",
       "div.sherpa table.model th.model-even {\n",
       "    background: var(--sherpa-background-color-dark2);\n",
       "}\n",
       "\n",
       "div.sherpa .failed {\n",
       "    background: orange;\n",
       "    font-size: large;\n",
       "    padding: 1em;\n",
       "}\n",
       "</style><div class=\"sherpa-text-fallback\">&lt;Fixed_Lines model instance &#x27;Test&#x27;&gt;</div><div hidden class=\"sherpa\"><details open><summary>Model</summary><table class=\"model\"><caption>Expression: Test</caption><thead><tr><th>Component</th><th>Parameter</th><th>Thawed</th><th>Value</th><th>Min</th><th>Max</th><th>Units</th></tr></thead><tbody><tr><th class=\"model-odd\" scope=\"rowgroup\" rowspan=11>Test</th><td>amp_TiII113_5072</td><td><input disabled type=\"checkbox\" checked></input></td><td>2.286758508576162</td><td>0.0</td><td>1000.0</td><td></td></tr><tr><td>amp_[NI]_5200</td><td><input disabled type=\"checkbox\" checked></input></td><td>15.825176929863435</td><td>0.0</td><td>1000.0</td><td></td></tr><tr><td>amp_[NII]_5755</td><td><input disabled type=\"checkbox\" checked></input></td><td>2.7526803253758887</td><td>0.0</td><td>1000.0</td><td></td></tr><tr><td>amp_NII_5667</td><td><input disabled type=\"checkbox\" checked></input></td><td>54.923311505635745</td><td>0.0</td><td>1000.0</td><td></td></tr><tr><td>amp_NII_5676</td><td><input disabled type=\"checkbox\" checked></input></td><td>0.4313939645340018</td><td>0.0</td><td>1000.0</td><td></td></tr><tr><td>amp_NII_5680</td><td><input disabled type=\"checkbox\" checked></input></td><td>2.9062844795164837</td><td>0.0</td><td>1000.0</td><td></td></tr><tr><td>amp_NII_5686</td><td><input disabled type=\"checkbox\" checked></input></td><td>3.524591051913278</td><td>0.0</td><td>1000.0</td><td></td></tr><tr><td>amp_CIII_5696</td><td><input disabled type=\"checkbox\" checked></input></td><td>3.7595070612563575</td><td>0.0</td><td>1000.0</td><td></td></tr><tr><td>amp_SiII_5958</td><td><input disabled type=\"checkbox\" checked></input></td><td>5.671747767349131</td><td>0.0</td><td>1000.0</td><td></td></tr><tr><td>offs_kms</td><td><input disabled type=\"checkbox\" checked></input></td><td>-1.3565363886897417</td><td>-500.0</td><td>500.0</td><td>km/s</td></tr><tr><td>fwhm</td><td><input disabled type=\"checkbox\" checked></input></td><td>134.2258892471781</td><td>1e-05</td><td>1000.0</td><td>km/s</td></tr></tbody></table></details></div>"
      ],
      "text/plain": [
       "<Fixed_Lines model instance 'Test'>"
      ]
     },
     "execution_count": 10,
     "metadata": {},
     "output_type": "execute_result"
    }
   ],
   "source": [
    "fspec.model"
   ]
  },
  {
   "cell_type": "code",
   "execution_count": 11,
   "id": "bfe344e7",
   "metadata": {},
   "outputs": [
    {
     "name": "stdout",
     "output_type": "stream",
     "text": [
      "iteration:  1\n",
      "iteration:  2\n",
      "iteration:  3\n",
      "iteration:  4\n",
      "iteration:  5\n",
      "iteration:  6\n",
      "iteration:  7\n",
      "iteration:  8\n",
      "iteration:  9\n",
      "iteration:  10\n"
     ]
    }
   ],
   "source": [
    "fspec.fit(rspmod, ntrial=10)\n",
    "rsp_mod_arr = fspec.model(wave)"
   ]
  },
  {
   "cell_type": "code",
   "execution_count": 12,
   "id": "ac3c016c",
   "metadata": {},
   "outputs": [
    {
     "data": {
      "text/html": [
       "<style>/*\n",
       "Copyright (C) 2020  Smithsonian Astrophysical Observatory\n",
       "\n",
       "\n",
       " This program is free software; you can redistribute it and/or modify\n",
       " it under the terms of the GNU General Public License as published by\n",
       " the Free Software Foundation; either version 3 of the License, or\n",
       " (at your option) any later version.\n",
       "\n",
       " This program is distributed in the hope that it will be useful,\n",
       " but WITHOUT ANY WARRANTY; without even the implied warranty of\n",
       " MERCHANTABILITY or FITNESS FOR A PARTICULAR PURPOSE.  See the\n",
       " GNU General Public License for more details.\n",
       "\n",
       " You should have received a copy of the GNU General Public License along\n",
       " with this program; if not, write to the Free Software Foundation, Inc.,\n",
       " 51 Franklin Street, Fifth Floor, Boston, MA 02110-1301 USA.\n",
       "\n",
       "*/\n",
       "\n",
       ":root {\n",
       "  --sherpa-border-color: var(--jp-border-color2, #e0e0e0);\n",
       "  --sherpa-background-color: var(--jp-layout-color0, white);\n",
       "  --sherpa-background-color-row-even: var(--jp-layout-color1, white);\n",
       "  --sherpa-background-color-row-odd: var(--jp-layout-color2, #eeeeee);\n",
       "\n",
       "  /* https://medium.com/ge-design/iot-cool-gray-is-a-great-background-color-for-data-visualization-ebf18c318418 */\n",
       "  --sherpa-background-color-dark1: #EBEFF2;\n",
       "  --sherpa-background-color-dark2: #D8E0E5;\n",
       "}\n",
       "\n",
       "div.sherpa-text-fallback {\n",
       "    display: none;\n",
       "}\n",
       "\n",
       "div.sherpa {\n",
       "    display: block;\n",
       "}\n",
       "\n",
       "div.sherpa details summary {\n",
       "    display: list-item;  /* needed for notebook, not lab */\n",
       "    font-size: larger;\n",
       "}\n",
       "\n",
       "div.sherpa details div.datavals {\n",
       "    display: grid;\n",
       "    grid-template-columns: 1fr 3fr;\n",
       "    column-gap: 0.5em;\n",
       "}\n",
       "\n",
       "div.sherpa div.dataname {\n",
       "    font-weight: bold;\n",
       "    border-right: 1px solid var(--sherpa-border-color);\n",
       "}\n",
       "\n",
       "div.sherpa div.dataval { }\n",
       "\n",
       "div.sherpa div.datavals div:nth-child(4n + 1) ,\n",
       "div.sherpa div.datavals div:nth-child(4n + 2) {\n",
       "    background: var(--sherpa-background-color-row-odd);\n",
       "}\n",
       "\n",
       "div.sherpa table.model tbody {\n",
       "    border-bottom: 1px solid var(--sherpa-border-color);\n",
       "}\n",
       "\n",
       "div.sherpa table.model tr.block {\n",
       "    border-top: 1px solid var(--sherpa-border-color);\n",
       "}\n",
       "\n",
       "div.sherpa table.model th.model-odd ,\n",
       "div.sherpa table.model th.model-even {\n",
       "    border-right: 1px solid var(--sherpa-border-color);\n",
       "}\n",
       "\n",
       "div.sherpa table.model th.model-odd {\n",
       "    background: var(--sherpa-background-color-dark1);\n",
       "}\n",
       "\n",
       "div.sherpa table.model th.model-even {\n",
       "    background: var(--sherpa-background-color-dark2);\n",
       "}\n",
       "\n",
       "div.sherpa .failed {\n",
       "    background: orange;\n",
       "    font-size: large;\n",
       "    padding: 1em;\n",
       "}\n",
       "</style><div class=\"sherpa-text-fallback\">&lt;ConvolvedModel model instance &#x27;instrsp(Test)&#x27;&gt;</div><div hidden class=\"sherpa\"><details open><summary>Model</summary><table class=\"model\"><caption>Expression: instrsp(Test)</caption><thead><tr><th>Component</th><th>Parameter</th><th>Thawed</th><th>Value</th><th>Min</th><th>Max</th><th>Units</th></tr></thead><tbody><tr><th class=\"model-odd\" scope=\"rowgroup\" rowspan=11>Test</th><td>amp_TiII113_5072</td><td><input disabled type=\"checkbox\" checked></input></td><td>5.784644816109187</td><td>0.0</td><td>1000.0</td><td></td></tr><tr><td>amp_[NI]_5200</td><td><input disabled type=\"checkbox\" checked></input></td><td>9.52701476687809</td><td>0.0</td><td>1000.0</td><td></td></tr><tr><td>amp_[NII]_5755</td><td><input disabled type=\"checkbox\" checked></input></td><td>4.540272288315301</td><td>0.0</td><td>1000.0</td><td></td></tr><tr><td>amp_NII_5667</td><td><input disabled type=\"checkbox\" checked></input></td><td>19.706123093548978</td><td>0.0</td><td>1000.0</td><td></td></tr><tr><td>amp_NII_5676</td><td><input disabled type=\"checkbox\" checked></input></td><td>4.785332267847961</td><td>0.0</td><td>1000.0</td><td></td></tr><tr><td>amp_NII_5680</td><td><input disabled type=\"checkbox\" checked></input></td><td>5.134109787304423</td><td>0.0</td><td>1000.0</td><td></td></tr><tr><td>amp_NII_5686</td><td><input disabled type=\"checkbox\" checked></input></td><td>6.793660654656152</td><td>0.0</td><td>1000.0</td><td></td></tr><tr><td>amp_CIII_5696</td><td><input disabled type=\"checkbox\" checked></input></td><td>7.2411239643741405</td><td>0.0</td><td>1000.0</td><td></td></tr><tr><td>amp_SiII_5958</td><td><input disabled type=\"checkbox\" checked></input></td><td>6.976096413559492</td><td>0.0</td><td>1000.0</td><td></td></tr><tr><td>offs_kms</td><td><input disabled type=\"checkbox\" checked></input></td><td>-0.7265236749969817</td><td>-500.0</td><td>500.0</td><td>km/s</td></tr><tr><td>fwhm</td><td><input disabled type=\"checkbox\" checked></input></td><td>20.07791459805146</td><td>1e-05</td><td>1000.0</td><td>km/s</td></tr></tbody></table></details></div>"
      ],
      "text/plain": [
       "<ConvolvedModel model instance 'instrsp(Test)'>"
      ]
     },
     "execution_count": 12,
     "metadata": {},
     "output_type": "execute_result"
    }
   ],
   "source": [
    "fspec.model"
   ]
  },
  {
   "cell_type": "code",
   "execution_count": 13,
   "id": "49022196",
   "metadata": {},
   "outputs": [
    {
     "data": {
      "application/vnd.jupyter.widget-view+json": {
       "model_id": "c0ab9f26e04547fd8ba979ac7fe8a2df",
       "version_major": 2,
       "version_minor": 0
      },
      "image/png": "[encoded data removed]",
      "text/html": [
       "\n",
       "            <div style=\"display: inline-block;\">\n",
       "                <div class=\"jupyter-widgets widget-label\" style=\"text-align: center;\">\n",
       "                    Figure\n",
       "                </div>\n",
       "                <img src='data:image/png;base64,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' width=640.0/>\n",
       "            </div>\n",
       "        "
      ],
      "text/plain": [
       "Canvas(toolbar=Toolbar(toolitems=[('Home', 'Reset original view', 'home', 'home'), ('Back', 'Back to previous …"
      ]
     },
     "metadata": {},
     "output_type": "display_data"
    }
   ],
   "source": [
    "plt.figure()\n",
    "plt.plot(wave, observed_spectrum, 'k-', label='Observed spectrum')\n",
    "plt.plot(wave, narrow_mod_arr, 'r-', label='Model spectrum', alpha=0.8)\n",
    "plt.plot(wave, rsp_mod_arr, 'b-', label='Response model spectrum', alpha=0.8)\n",
    "plt.xlabel('Wavelength [Angstrom]')\n",
    "plt.ylabel('Flux [arbitrary units]')\n",
    "plt.legend()\n",
    "plt.margins(x=0)\n",
    "plt.show()"
   ]
  },
  {
   "cell_type": "code",
   "execution_count": 14,
   "id": "606aab3e",
   "metadata": {},
   "outputs": [],
   "source": [
    "import shutil\n",
    "shutil.rmtree(path_to_folder)"
   ]
  }
 ],
 "metadata": {
  "kernelspec": {
   "display_name": "musevenv",
   "language": "python",
   "name": "python3"
  },
  "language_info": {
   "codemirror_mode": {
    "name": "ipython",
    "version": 3
   },
   "file_extension": ".py",
   "mimetype": "text/x-python",
   "name": "python",
   "nbconvert_exporter": "python",
   "pygments_lexer": "ipython3",
   "version": "3.11.9"
  }
 },
 "nbformat": 4,
 "nbformat_minor": 5
}
