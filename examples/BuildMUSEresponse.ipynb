{
 "cells": [
  {
   "cell_type": "code",
   "execution_count": 1,
   "id": "c5395461",
   "metadata": {},
   "outputs": [],
   "source": [
    "from agnfitlab import instrument\n",
    "import numpy as np\n",
    "import os"
   ]
  },
  {
   "cell_type": "code",
   "execution_count": 2,
   "id": "8bb1ecb9",
   "metadata": {},
   "outputs": [],
   "source": [
    "# Inatrumental Response of MUSE from the MUSE User Manual\n",
    "resp_lambda = np.array([4650.0, 5000.0, 5500.0, 6000.0, 6500.0, 7000.0, 7500.0, 8000.0, 8500.0, 9000.0, 9350.0])\n",
    "resp_R = np.array([1609, 1750, 1978, 2227, 2484, 2737, 2975, 3183, 3350, 3465, 3506])\n",
    "\n",
    "step = 1.25\n",
    "start = 4700.40576171875 # equal to 'CRVAL'\n",
    "end = 9351.65576171875\n",
    "MUSE_wave = np.arange(start, end+step, step)"
   ]
  },
  {
   "cell_type": "code",
   "execution_count": 3,
   "id": "49f43104",
   "metadata": {},
   "outputs": [],
   "source": [
    "# Create the response matrix\n",
    "builder = instrument.InstRspBuilder(MUSE_wave)\n",
    "full_response_matrix = builder.build_gaussian_matrix(resp_lambda, resp_R)\n",
    "\n",
    "# Save and load the response matrix\n",
    "builder.save_and_register('MUSERSP.fits', instrument_name='MUSE', clobber=True)"
   ]
  }
 ],
 "metadata": {
  "kernelspec": {
   "display_name": "musevenv",
   "language": "python",
   "name": "python3"
  },
  "language_info": {
   "codemirror_mode": {
    "name": "ipython",
    "version": 3
   },
   "file_extension": ".py",
   "mimetype": "text/x-python",
   "name": "python",
   "nbconvert_exporter": "python",
   "pygments_lexer": "ipython3",
   "version": "3.11.9"
  }
 },
 "nbformat": 4,
 "nbformat_minor": 5
}
