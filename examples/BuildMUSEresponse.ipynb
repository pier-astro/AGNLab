{
 "cells": [
  {
   "cell_type": "code",
   "execution_count": 1,
   "id": "c5395461",
   "metadata": {},
   "outputs": [
    {
     "data": {
      "application/javascript": "\n            (function() {\n                const isDark = document.body.classList.contains('vscode-dark') || // VS Code\n                               document.body.classList.contains('jp-mod-dark') || // JupyterLab\n                               (window.matchMedia && window.matchMedia('(prefers-color-scheme: dark)').matches); // System preference\n\n                if (isDark) {\n                    const styleId = 'custom-dark-theme-css';\n                    if (!document.getElementById(styleId)) {\n                        const style = document.createElement('style');\n                        style.id = styleId;\n                        style.textContent = `<style>\n    /* ========== TABLE STYLING ========== */\n    table {\n        border-collapse: collapse;\n        /* width: 100%; */\n        min-width: fit-content;\n        color: #ffffff !important;\n        background-color: rgba(40, 40, 40, 0.9) !important;\n        margin: 1em 0;\n    }\n\n    th, td {\n        padding: 8px 12px !important;\n        border: 1px solid rgba(255, 255, 255, 0.1) !important;\n        color: #ffffff !important;\n    }\n\n    th {\n        background-color: rgba(60, 60, 60, 0.95) !important;\n        font-weight: 600 !important;\n        letter-spacing: 0.5px;\n    }\n\n    tr:nth-child(even) { background-color: rgba(50, 50, 50, 0.9) !important; }\n    tr:nth-child(odd) { background-color: rgba(40, 40, 40, 0.9) !important; }\n    tr:hover { background-color: rgba(80, 80, 80, 0.95) !important; }\n\n    /* ========== COLLAPSIBLE SECTIONS ========== */\n    details {\n        margin: 0.8rem 0;\n        border-radius: 4px;\n        overflow: hidden;\n    }\n\n    details > summary {\n        color: #ffffff !important;\n        background-color: rgba(50, 50, 50, 0.9) !important;\n        padding: 8px 12px !important;\n        cursor: pointer;\n        list-style: none;\n        transition: all 0.2s ease;\n        position: relative;\n    }\n\n    details > summary::before {\n        content: \"▶\";\n        color: rgba(255, 255, 255, 0.7);\n        display: inline-block;\n        margin-right: 8px;\n        transition: transform 0.2s ease;\n        font-size: 0.9em;\n    }\n\n    details[open] > summary::before {\n        transform: rotate(90deg);\n    }\n\n    details[open] > summary {\n        border-radius: 4px 4px 0 0;\n    }\n\n    /* ========== DATA PAIR STYLING ========== */\n    .datavals {\n        background-color: rgba(40, 40, 40, 0.95) !important;\n        margin: 4px 0 !important;\n        padding: 6px 8px !important;\n        border-radius: 0 0 4px 4px;\n    }\n\n    .dataname, .dataval {\n        color: #ffffff !important;\n        padding: 6px 8px !important;\n        margin: 2px 0 !important;\n        font-family: monospace;\n        transition: background-color 0.15s ease;\n    }\n\n    .dataname {\n        background-color: rgba(60, 60, 60, 0.9) !important;\n        font-weight: 200;\n        border-radius: 3px;\n        display: inline-block;\n        min-width: 220px;\n        margin-right: 10px !important;\n    }\n\n    .dataval {\n        background-color: rgba(70, 70, 70, 0.9) !important;\n        border-radius: 3px;\n        display: inline-block;\n        word-break: break-word;\n        min-width: 120px;\n    }\n\n    /* Alternating highlight for data pairs */\n    .datavals > div:nth-child(4n+1),\n    .datavals > div:nth-child(4n+2) {\n        background-color: rgba(85, 85, 85, 0.9) !important;\n    }\n\n    .dataname:hover, .dataval:hover {\n        background-color: rgba(80, 80, 80, 0.95) !important;\n    }\n\n    .datavals > div:not(:last-child) {\n        margin-bottom: 5px !important;\n    }\n\n    /* ========== CHECKBOX STYLING ========== */\n    /* Style checkboxes within the table */\n    input[type=\"checkbox\"] {\n        width: 16px;\n        height: 16px;\n        accent-color: #4CAF50; /* Green color */\n    }\n\n    /* Alternative method: Custom styling */\n    input[type=\"checkbox\"] {\n        appearance: none; /* Hide default checkbox */\n        width: 16px;\n        height: 16px;\n        border: 2px solid #ccc;\n        border-radius: 3px;\n        background-color: transparent;\n        cursor: pointer;\n        position: relative;\n    }\n\n    /* Checked state */\n    input[type=\"checkbox\"]:checked {\n        background-color: #4CAF50; /* Green */\n        border-color: #4CAF50;\n    }\n\n    /* Custom checkmark */\n    input[type=\"checkbox\"]:checked::after {\n        content: \"✔\";\n        font-size: 12px;\n        color: white;\n        position: absolute;\n        top: 50%;\n        left: 50%;\n        transform: translate(-50%, -50%);\n    }\n\n</style>`;\n                        document.head.appendChild(style);\n                    }\n                }\n            })();\n",
      "text/plain": [
       "<IPython.core.display.Javascript object>"
      ]
     },
     "metadata": {},
     "output_type": "display_data"
    }
   ],
   "source": [
    "from agnlab import instrument\n",
    "import numpy as np\n",
    "import os"
   ]
  },
  {
   "cell_type": "code",
   "execution_count": 2,
   "id": "8bb1ecb9",
   "metadata": {},
   "outputs": [],
   "source": [
    "# Inatrumental Response of MUSE from the MUSE User Manual\n",
    "resp_lambda = np.array([4650.0, 5000.0, 5500.0, 6000.0, 6500.0, 7000.0, 7500.0, 8000.0, 8500.0, 9000.0, 9350.0])\n",
    "resp_R = np.array([1609, 1750, 1978, 2227, 2484, 2737, 2975, 3183, 3350, 3465, 3506])\n",
    "\n",
    "step = 1.25\n",
    "start = 4700.40576171875 # equal to 'CRVAL'\n",
    "end = 9351.65576171875\n",
    "MUSE_wave = np.arange(start, end+step, step)"
   ]
  },
  {
   "cell_type": "code",
   "execution_count": 3,
   "id": "49f43104",
   "metadata": {},
   "outputs": [],
   "source": [
    "# Create the response matrix\n",
    "builder = instrument.InstRspBuilder(MUSE_wave)\n",
    "full_response_matrix = builder.build_gaussian_matrix(resp_lambda, resp_R)\n",
    "\n",
    "# Save and load the response matrix\n",
    "builder.save_and_register('MUSERSP.fits', instrument_name='MUSE', clobber=True)"
   ]
  }
 ],
 "metadata": {
  "kernelspec": {
   "display_name": "musevenv",
   "language": "python",
   "name": "python3"
  },
  "language_info": {
   "codemirror_mode": {
    "name": "ipython",
    "version": 3
   },
   "file_extension": ".py",
   "mimetype": "text/x-python",
   "name": "python",
   "nbconvert_exporter": "python",
   "pygments_lexer": "ipython3",
   "version": "3.11.9"
  }
 },
 "nbformat": 4,
 "nbformat_minor": 5
}
