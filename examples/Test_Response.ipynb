{
 "cells": [
  {
   "cell_type": "code",
   "execution_count": 18,
   "id": "10bfaea0",
   "metadata": {},
   "outputs": [],
   "source": [
    "import numpy as np\n",
    "import matplotlib.pyplot as plt\n",
    "\n",
    "import agnlab\n",
    "import agnlab.models as models\n",
    "import agnlab.instrument as inst"
   ]
  },
  {
   "cell_type": "code",
   "execution_count": 19,
   "id": "1e2681c5",
   "metadata": {},
   "outputs": [],
   "source": [
    "wmin = 5000\n",
    "wmax = 6000"
   ]
  },
  {
   "cell_type": "code",
   "execution_count": 20,
   "id": "3d7e0f9c",
   "metadata": {},
   "outputs": [
    {
     "name": "stdout",
     "output_type": "stream",
     "text": [
      "Directory testfit/ created.\n"
     ]
    },
    {
     "data": {
      "text/html": [
       "<style>/*\n",
       "Copyright (C) 2020  Smithsonian Astrophysical Observatory\n",
       "\n",
       "\n",
       " This program is free software; you can redistribute it and/or modify\n",
       " it under the terms of the GNU General Public License as published by\n",
       " the Free Software Foundation; either version 3 of the License, or\n",
       " (at your option) any later version.\n",
       "\n",
       " This program is distributed in the hope that it will be useful,\n",
       " but WITHOUT ANY WARRANTY; without even the implied warranty of\n",
       " MERCHANTABILITY or FITNESS FOR A PARTICULAR PURPOSE.  See the\n",
       " GNU General Public License for more details.\n",
       "\n",
       " You should have received a copy of the GNU General Public License along\n",
       " with this program; if not, write to the Free Software Foundation, Inc.,\n",
       " 51 Franklin Street, Fifth Floor, Boston, MA 02110-1301 USA.\n",
       "\n",
       "*/\n",
       "\n",
       ":root {\n",
       "  --sherpa-border-color: var(--jp-border-color2, #e0e0e0);\n",
       "  --sherpa-background-color: var(--jp-layout-color0, white);\n",
       "  --sherpa-background-color-row-even: var(--jp-layout-color1, white);\n",
       "  --sherpa-background-color-row-odd: var(--jp-layout-color2, #eeeeee);\n",
       "\n",
       "  /* https://medium.com/ge-design/iot-cool-gray-is-a-great-background-color-for-data-visualization-ebf18c318418 */\n",
       "  --sherpa-background-color-dark1: #EBEFF2;\n",
       "  --sherpa-background-color-dark2: #D8E0E5;\n",
       "}\n",
       "\n",
       "div.sherpa-text-fallback {\n",
       "    display: none;\n",
       "}\n",
       "\n",
       "div.sherpa {\n",
       "    display: block;\n",
       "}\n",
       "\n",
       "div.sherpa details summary {\n",
       "    display: list-item;  /* needed for notebook, not lab */\n",
       "    font-size: larger;\n",
       "}\n",
       "\n",
       "div.sherpa details div.datavals {\n",
       "    display: grid;\n",
       "    grid-template-columns: 1fr 3fr;\n",
       "    column-gap: 0.5em;\n",
       "}\n",
       "\n",
       "div.sherpa div.dataname {\n",
       "    font-weight: bold;\n",
       "    border-right: 1px solid var(--sherpa-border-color);\n",
       "}\n",
       "\n",
       "div.sherpa div.dataval { }\n",
       "\n",
       "div.sherpa div.datavals div:nth-child(4n + 1) ,\n",
       "div.sherpa div.datavals div:nth-child(4n + 2) {\n",
       "    background: var(--sherpa-background-color-row-odd);\n",
       "}\n",
       "\n",
       "div.sherpa table.model tbody {\n",
       "    border-bottom: 1px solid var(--sherpa-border-color);\n",
       "}\n",
       "\n",
       "div.sherpa table.model tr.block {\n",
       "    border-top: 1px solid var(--sherpa-border-color);\n",
       "}\n",
       "\n",
       "div.sherpa table.model th.model-odd ,\n",
       "div.sherpa table.model th.model-even {\n",
       "    border-right: 1px solid var(--sherpa-border-color);\n",
       "}\n",
       "\n",
       "div.sherpa table.model th.model-odd {\n",
       "    background: var(--sherpa-background-color-dark1);\n",
       "}\n",
       "\n",
       "div.sherpa table.model th.model-even {\n",
       "    background: var(--sherpa-background-color-dark2);\n",
       "}\n",
       "\n",
       "div.sherpa .failed {\n",
       "    background: orange;\n",
       "    font-size: large;\n",
       "    padding: 1em;\n",
       "}\n",
       "</style><div class=\"sherpa-text-fallback\">&lt;TiedLorentzLines model instance &#x27;Test&#x27;&gt;</div><div hidden class=\"sherpa\"><details open><summary>Model</summary><table class=\"model\"><caption>Expression: Test</caption><thead><tr><th>Component</th><th>Parameter</th><th>Thawed</th><th>Value</th><th>Min</th><th>Max</th><th>Units</th></tr></thead><tbody><tr><th class=\"model-odd\" scope=\"rowgroup\" rowspan=11>Test</th><td>amp_TiII113_5072</td><td><input disabled type=\"checkbox\" checked></input></td><td>10.0</td><td>0.0</td><td>1000.0</td><td></td></tr><tr><td>amp_NI_5200</td><td><input disabled type=\"checkbox\" checked></input></td><td>10.0</td><td>0.0</td><td>1000.0</td><td></td></tr><tr><td>amp_NII_5755</td><td><input disabled type=\"checkbox\" checked></input></td><td>10.0</td><td>0.0</td><td>1000.0</td><td></td></tr><tr><td>amp_NII_5667</td><td><input disabled type=\"checkbox\" checked></input></td><td>10.0</td><td>0.0</td><td>1000.0</td><td></td></tr><tr><td>amp_NII_5676</td><td><input disabled type=\"checkbox\" checked></input></td><td>10.0</td><td>0.0</td><td>1000.0</td><td></td></tr><tr><td>amp_NII_5680</td><td><input disabled type=\"checkbox\" checked></input></td><td>10.0</td><td>0.0</td><td>1000.0</td><td></td></tr><tr><td>amp_NII_5686</td><td><input disabled type=\"checkbox\" checked></input></td><td>10.0</td><td>0.0</td><td>1000.0</td><td></td></tr><tr><td>amp_CIII_5696</td><td><input disabled type=\"checkbox\" checked></input></td><td>10.0</td><td>0.0</td><td>1000.0</td><td></td></tr><tr><td>amp_SiII_5958</td><td><input disabled type=\"checkbox\" checked></input></td><td>10.0</td><td>0.0</td><td>1000.0</td><td></td></tr><tr><td>offs_kms</td><td><input disabled type=\"checkbox\" checked></input></td><td>0.0</td><td>-500.0</td><td>500.0</td><td>km/s</td></tr><tr><td>fwhm</td><td><input disabled type=\"checkbox\" checked></input></td><td>10.0</td><td>1e-05</td><td>1000.0</td><td>km/s</td></tr></tbody></table></details></div>"
      ],
      "text/plain": [
       "<TiedLorentzLines model instance 'Test'>"
      ]
     },
     "execution_count": 20,
     "metadata": {},
     "output_type": "execute_result"
    }
   ],
   "source": [
    "path_to_folder='testfit/'\n",
    "models.init_lines_csv(wmin=wmin, wmax=wmax, dirpath=path_to_folder)\n",
    "\n",
    "narrow_m = models.TiedLorentzLines(['narrow_plus.csv'], name='Test',\n",
    "                                         fwhm=10, min_fwhm=1e-5, max_fwhm=1000,\n",
    "                                         offset=0., min_offset=-500, max_offset=500,\n",
    "                                         amp=10, min_amp=0, max_amp=1000)\n",
    "narrow_m"
   ]
  },
  {
   "cell_type": "code",
   "execution_count": 21,
   "id": "54c75bbc",
   "metadata": {},
   "outputs": [],
   "source": [
    "# Load the response matrix\n",
    "rsploader = inst.InstRspLoader(inst='MUSE')"
   ]
  },
  {
   "cell_type": "code",
   "execution_count": 22,
   "id": "082ffe35",
   "metadata": {},
   "outputs": [],
   "source": [
    "# Create the wavelength array for the fake spectrum cropping the rsploader.wave array to the wmin and wmax\n",
    "wave = rsploader.wave[(rsploader.wave >= wmin) & (rsploader.wave <= wmax)]\n",
    "\n",
    "# Create the narrow fake spectrum\n",
    "source_spectrum = narrow_m(wave)"
   ]
  },
  {
   "cell_type": "code",
   "execution_count": 23,
   "id": "e1bdf383",
   "metadata": {},
   "outputs": [],
   "source": [
    "# Crop the response matrix to the same wavelength range\n",
    "rsp_matrix = rsploader.crop_matrix(wave=wave)\n",
    "\n",
    "# Instantiate the response matrix model\n",
    "rsp = inst.SpectralRsp(rsp_matrix)\n",
    "rspmod = rsp(narrow_m)"
   ]
  },
  {
   "cell_type": "code",
   "execution_count": 24,
   "id": "d2ea5339",
   "metadata": {},
   "outputs": [],
   "source": [
    "# Simulate the spectrum adding noise to the \n",
    "observed_spectrum = rspmod(wave)\n",
    "\n",
    "err_mag = 0.1\n",
    "err = np.zeros_like(observed_spectrum) + err_mag\n",
    "observed_spectrum += np.random.normal(0, err_mag, len(observed_spectrum))"
   ]
  },
  {
   "cell_type": "code",
   "execution_count": 25,
   "id": "dcba879c",
   "metadata": {},
   "outputs": [
    {
     "data": {
      "application/vnd.jupyter.widget-view+json": {
       "model_id": "948c05bf108c4dc7939199ccf82f66be",
       "version_major": 2,
       "version_minor": 0
      },
      "text/plain": [
       "Fitting trials:   0%|          | 0/10 [00:00<?, ?it/s]"
      ]
     },
     "metadata": {},
     "output_type": "display_data"
    }
   ],
   "source": [
    "# Fit the spectrum with the narrow model and with the repsonse model\n",
    "fspec = agnlab.make_spectrum(wave=wave, flux=observed_spectrum, fluxerr=err)\n",
    "\n",
    "fspec.fit(narrow_m, ntrial=10)\n",
    "narrow_mod_arr = fspec.model(wave)"
   ]
  },
  {
   "cell_type": "code",
   "execution_count": 26,
   "id": "9ebd5337",
   "metadata": {},
   "outputs": [
    {
     "data": {
      "text/html": [
       "<style>/*\n",
       "Copyright (C) 2020  Smithsonian Astrophysical Observatory\n",
       "\n",
       "\n",
       " This program is free software; you can redistribute it and/or modify\n",
       " it under the terms of the GNU General Public License as published by\n",
       " the Free Software Foundation; either version 3 of the License, or\n",
       " (at your option) any later version.\n",
       "\n",
       " This program is distributed in the hope that it will be useful,\n",
       " but WITHOUT ANY WARRANTY; without even the implied warranty of\n",
       " MERCHANTABILITY or FITNESS FOR A PARTICULAR PURPOSE.  See the\n",
       " GNU General Public License for more details.\n",
       "\n",
       " You should have received a copy of the GNU General Public License along\n",
       " with this program; if not, write to the Free Software Foundation, Inc.,\n",
       " 51 Franklin Street, Fifth Floor, Boston, MA 02110-1301 USA.\n",
       "\n",
       "*/\n",
       "\n",
       ":root {\n",
       "  --sherpa-border-color: var(--jp-border-color2, #e0e0e0);\n",
       "  --sherpa-background-color: var(--jp-layout-color0, white);\n",
       "  --sherpa-background-color-row-even: var(--jp-layout-color1, white);\n",
       "  --sherpa-background-color-row-odd: var(--jp-layout-color2, #eeeeee);\n",
       "\n",
       "  /* https://medium.com/ge-design/iot-cool-gray-is-a-great-background-color-for-data-visualization-ebf18c318418 */\n",
       "  --sherpa-background-color-dark1: #EBEFF2;\n",
       "  --sherpa-background-color-dark2: #D8E0E5;\n",
       "}\n",
       "\n",
       "div.sherpa-text-fallback {\n",
       "    display: none;\n",
       "}\n",
       "\n",
       "div.sherpa {\n",
       "    display: block;\n",
       "}\n",
       "\n",
       "div.sherpa details summary {\n",
       "    display: list-item;  /* needed for notebook, not lab */\n",
       "    font-size: larger;\n",
       "}\n",
       "\n",
       "div.sherpa details div.datavals {\n",
       "    display: grid;\n",
       "    grid-template-columns: 1fr 3fr;\n",
       "    column-gap: 0.5em;\n",
       "}\n",
       "\n",
       "div.sherpa div.dataname {\n",
       "    font-weight: bold;\n",
       "    border-right: 1px solid var(--sherpa-border-color);\n",
       "}\n",
       "\n",
       "div.sherpa div.dataval { }\n",
       "\n",
       "div.sherpa div.datavals div:nth-child(4n + 1) ,\n",
       "div.sherpa div.datavals div:nth-child(4n + 2) {\n",
       "    background: var(--sherpa-background-color-row-odd);\n",
       "}\n",
       "\n",
       "div.sherpa table.model tbody {\n",
       "    border-bottom: 1px solid var(--sherpa-border-color);\n",
       "}\n",
       "\n",
       "div.sherpa table.model tr.block {\n",
       "    border-top: 1px solid var(--sherpa-border-color);\n",
       "}\n",
       "\n",
       "div.sherpa table.model th.model-odd ,\n",
       "div.sherpa table.model th.model-even {\n",
       "    border-right: 1px solid var(--sherpa-border-color);\n",
       "}\n",
       "\n",
       "div.sherpa table.model th.model-odd {\n",
       "    background: var(--sherpa-background-color-dark1);\n",
       "}\n",
       "\n",
       "div.sherpa table.model th.model-even {\n",
       "    background: var(--sherpa-background-color-dark2);\n",
       "}\n",
       "\n",
       "div.sherpa .failed {\n",
       "    background: orange;\n",
       "    font-size: large;\n",
       "    padding: 1em;\n",
       "}\n",
       "</style><div class=\"sherpa-text-fallback\">&lt;TiedLorentzLines model instance &#x27;Test&#x27;&gt;</div><div hidden class=\"sherpa\"><details open><summary>Model</summary><table class=\"model\"><caption>Expression: Test</caption><thead><tr><th>Component</th><th>Parameter</th><th>Thawed</th><th>Value</th><th>Min</th><th>Max</th><th>Units</th></tr></thead><tbody><tr><th class=\"model-odd\" scope=\"rowgroup\" rowspan=11>Test</th><td>amp_TiII113_5072</td><td><input disabled type=\"checkbox\" checked></input></td><td>0.14193276712978672</td><td>0.0</td><td>1000.0</td><td></td></tr><tr><td>amp_NI_5200</td><td><input disabled type=\"checkbox\" checked></input></td><td>1.3199315535025664</td><td>0.0</td><td>1000.0</td><td></td></tr><tr><td>amp_NII_5755</td><td><input disabled type=\"checkbox\" checked></input></td><td>0.31227778089877983</td><td>0.0</td><td>1000.0</td><td></td></tr><tr><td>amp_NII_5667</td><td><input disabled type=\"checkbox\" checked></input></td><td>3.967056791953391</td><td>0.0</td><td>1000.0</td><td></td></tr><tr><td>amp_NII_5676</td><td><input disabled type=\"checkbox\" checked></input></td><td>0.04624143671204017</td><td>0.0</td><td>1000.0</td><td></td></tr><tr><td>amp_NII_5680</td><td><input disabled type=\"checkbox\" checked></input></td><td>0.22426562230835223</td><td>0.0</td><td>1000.0</td><td></td></tr><tr><td>amp_NII_5686</td><td><input disabled type=\"checkbox\" checked></input></td><td>0.21361014494833708</td><td>0.0</td><td>1000.0</td><td></td></tr><tr><td>amp_CIII_5696</td><td><input disabled type=\"checkbox\" checked></input></td><td>0.08694886840253195</td><td>0.0</td><td>1000.0</td><td></td></tr><tr><td>amp_SiII_5958</td><td><input disabled type=\"checkbox\" checked></input></td><td>0.257877227118835</td><td>0.0</td><td>1000.0</td><td></td></tr><tr><td>offs_kms</td><td><input disabled type=\"checkbox\" checked></input></td><td>-4.003484581172919</td><td>-500.0</td><td>500.0</td><td>km/s</td></tr><tr><td>fwhm</td><td><input disabled type=\"checkbox\" checked></input></td><td>130.59941707390058</td><td>1e-05</td><td>1000.0</td><td>km/s</td></tr></tbody></table></details></div>"
      ],
      "text/plain": [
       "<TiedLorentzLines model instance 'Test'>"
      ]
     },
     "execution_count": 26,
     "metadata": {},
     "output_type": "execute_result"
    }
   ],
   "source": [
    "fspec.model"
   ]
  },
  {
   "cell_type": "code",
   "execution_count": 27,
   "id": "bfe344e7",
   "metadata": {},
   "outputs": [
    {
     "data": {
      "application/vnd.jupyter.widget-view+json": {
       "model_id": "6ee40ef7eb4d43faabb5d02706bf04d0",
       "version_major": 2,
       "version_minor": 0
      },
      "text/plain": [
       "Fitting trials:   0%|          | 0/10 [00:00<?, ?it/s]"
      ]
     },
     "metadata": {},
     "output_type": "display_data"
    }
   ],
   "source": [
    "fspec.fit(rspmod, ntrial=10)\n",
    "rsp_mod_arr = fspec.model(wave)"
   ]
  },
  {
   "cell_type": "code",
   "execution_count": 28,
   "id": "ac3c016c",
   "metadata": {},
   "outputs": [
    {
     "data": {
      "text/html": [
       "<style>/*\n",
       "Copyright (C) 2020  Smithsonian Astrophysical Observatory\n",
       "\n",
       "\n",
       " This program is free software; you can redistribute it and/or modify\n",
       " it under the terms of the GNU General Public License as published by\n",
       " the Free Software Foundation; either version 3 of the License, or\n",
       " (at your option) any later version.\n",
       "\n",
       " This program is distributed in the hope that it will be useful,\n",
       " but WITHOUT ANY WARRANTY; without even the implied warranty of\n",
       " MERCHANTABILITY or FITNESS FOR A PARTICULAR PURPOSE.  See the\n",
       " GNU General Public License for more details.\n",
       "\n",
       " You should have received a copy of the GNU General Public License along\n",
       " with this program; if not, write to the Free Software Foundation, Inc.,\n",
       " 51 Franklin Street, Fifth Floor, Boston, MA 02110-1301 USA.\n",
       "\n",
       "*/\n",
       "\n",
       ":root {\n",
       "  --sherpa-border-color: var(--jp-border-color2, #e0e0e0);\n",
       "  --sherpa-background-color: var(--jp-layout-color0, white);\n",
       "  --sherpa-background-color-row-even: var(--jp-layout-color1, white);\n",
       "  --sherpa-background-color-row-odd: var(--jp-layout-color2, #eeeeee);\n",
       "\n",
       "  /* https://medium.com/ge-design/iot-cool-gray-is-a-great-background-color-for-data-visualization-ebf18c318418 */\n",
       "  --sherpa-background-color-dark1: #EBEFF2;\n",
       "  --sherpa-background-color-dark2: #D8E0E5;\n",
       "}\n",
       "\n",
       "div.sherpa-text-fallback {\n",
       "    display: none;\n",
       "}\n",
       "\n",
       "div.sherpa {\n",
       "    display: block;\n",
       "}\n",
       "\n",
       "div.sherpa details summary {\n",
       "    display: list-item;  /* needed for notebook, not lab */\n",
       "    font-size: larger;\n",
       "}\n",
       "\n",
       "div.sherpa details div.datavals {\n",
       "    display: grid;\n",
       "    grid-template-columns: 1fr 3fr;\n",
       "    column-gap: 0.5em;\n",
       "}\n",
       "\n",
       "div.sherpa div.dataname {\n",
       "    font-weight: bold;\n",
       "    border-right: 1px solid var(--sherpa-border-color);\n",
       "}\n",
       "\n",
       "div.sherpa div.dataval { }\n",
       "\n",
       "div.sherpa div.datavals div:nth-child(4n + 1) ,\n",
       "div.sherpa div.datavals div:nth-child(4n + 2) {\n",
       "    background: var(--sherpa-background-color-row-odd);\n",
       "}\n",
       "\n",
       "div.sherpa table.model tbody {\n",
       "    border-bottom: 1px solid var(--sherpa-border-color);\n",
       "}\n",
       "\n",
       "div.sherpa table.model tr.block {\n",
       "    border-top: 1px solid var(--sherpa-border-color);\n",
       "}\n",
       "\n",
       "div.sherpa table.model th.model-odd ,\n",
       "div.sherpa table.model th.model-even {\n",
       "    border-right: 1px solid var(--sherpa-border-color);\n",
       "}\n",
       "\n",
       "div.sherpa table.model th.model-odd {\n",
       "    background: var(--sherpa-background-color-dark1);\n",
       "}\n",
       "\n",
       "div.sherpa table.model th.model-even {\n",
       "    background: var(--sherpa-background-color-dark2);\n",
       "}\n",
       "\n",
       "div.sherpa .failed {\n",
       "    background: orange;\n",
       "    font-size: large;\n",
       "    padding: 1em;\n",
       "}\n",
       "</style><div class=\"sherpa-text-fallback\">&lt;ConvolvedModel model instance &#x27;instrsp(Test)&#x27;&gt;</div><div hidden class=\"sherpa\"><details open><summary>Model</summary><table class=\"model\"><caption>Expression: instrsp(Test)</caption><thead><tr><th>Component</th><th>Parameter</th><th>Thawed</th><th>Value</th><th>Min</th><th>Max</th><th>Units</th></tr></thead><tbody><tr><th class=\"model-odd\" scope=\"rowgroup\" rowspan=11>Test</th><td>amp_TiII113_5072</td><td><input disabled type=\"checkbox\" checked></input></td><td>284.69398597911504</td><td>0.0</td><td>1000.0</td><td></td></tr><tr><td>amp_NI_5200</td><td><input disabled type=\"checkbox\" checked></input></td><td>999.9377228352647</td><td>0.0</td><td>1000.0</td><td></td></tr><tr><td>amp_NII_5755</td><td><input disabled type=\"checkbox\" checked></input></td><td>231.57375546211097</td><td>0.0</td><td>1000.0</td><td></td></tr><tr><td>amp_NII_5667</td><td><input disabled type=\"checkbox\" checked></input></td><td>910.5641672711552</td><td>0.0</td><td>1000.0</td><td></td></tr><tr><td>amp_NII_5676</td><td><input disabled type=\"checkbox\" checked></input></td><td>318.0316685964333</td><td>0.0</td><td>1000.0</td><td></td></tr><tr><td>amp_NII_5680</td><td><input disabled type=\"checkbox\" checked></input></td><td>160.40785772900878</td><td>0.0</td><td>1000.0</td><td></td></tr><tr><td>amp_NII_5686</td><td><input disabled type=\"checkbox\" checked></input></td><td>460.9128208835063</td><td>0.0</td><td>1000.0</td><td></td></tr><tr><td>amp_CIII_5696</td><td><input disabled type=\"checkbox\" checked></input></td><td>116.08069389641228</td><td>0.0</td><td>1000.0</td><td></td></tr><tr><td>amp_SiII_5958</td><td><input disabled type=\"checkbox\" checked></input></td><td>343.7419893071247</td><td>0.0</td><td>1000.0</td><td></td></tr><tr><td>offs_kms</td><td><input disabled type=\"checkbox\" checked></input></td><td>-7.378191948048703</td><td>-500.0</td><td>500.0</td><td>km/s</td></tr><tr><td>fwhm</td><td><input disabled type=\"checkbox\" checked></input></td><td>1.6691378206210854</td><td>1e-05</td><td>1000.0</td><td>km/s</td></tr></tbody></table></details></div>"
      ],
      "text/plain": [
       "<ConvolvedModel model instance 'instrsp(Test)'>"
      ]
     },
     "execution_count": 28,
     "metadata": {},
     "output_type": "execute_result"
    }
   ],
   "source": [
    "fspec.model"
   ]
  },
  {
   "cell_type": "code",
   "execution_count": 29,
   "id": "49022196",
   "metadata": {},
   "outputs": [
    {
     "data": {
      "image/png": "[encoded data removed]",
      "text/plain": [
       "<Figure size 640x480 with 1 Axes>"
      ]
     },
     "metadata": {},
     "output_type": "display_data"
    }
   ],
   "source": [
    "plt.figure()\n",
    "plt.plot(wave, observed_spectrum, 'k-', label='Observed spectrum')\n",
    "plt.plot(wave, narrow_mod_arr, 'r-', label='Model spectrum', alpha=0.8)\n",
    "plt.plot(wave, rsp_mod_arr, 'b-', label='Response model spectrum', alpha=0.8)\n",
    "plt.xlabel('Wavelength [Angstrom]')\n",
    "plt.ylabel('Flux [arbitrary units]')\n",
    "plt.legend()\n",
    "plt.margins(x=0)\n",
    "plt.show()"
   ]
  },
  {
   "cell_type": "code",
   "execution_count": 30,
   "id": "606aab3e",
   "metadata": {},
   "outputs": [],
   "source": [
    "import shutil\n",
    "shutil.rmtree(path_to_folder)"
   ]
  }
 ],
 "metadata": {
  "kernelspec": {
   "display_name": "musevenv",
   "language": "python",
   "name": "python3"
  },
  "language_info": {
   "codemirror_mode": {
    "name": "ipython",
    "version": 3
   },
   "file_extension": ".py",
   "mimetype": "text/x-python",
   "name": "python",
   "nbconvert_exporter": "python",
   "pygments_lexer": "ipython3",
   "version": "3.11.9"
  }
 },
 "nbformat": 4,
 "nbformat_minor": 5
}
