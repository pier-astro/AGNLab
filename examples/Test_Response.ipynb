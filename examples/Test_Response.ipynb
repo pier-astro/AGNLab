{
 "cells": [
  {
   "cell_type": "code",
   "execution_count": 1,
   "id": "10bfaea0",
   "metadata": {},
   "outputs": [
    {
     "data": {
      "application/javascript": "\n            (function() {\n                const isDark = document.body.classList.contains('vscode-dark') || // VS Code\n                               document.body.classList.contains('jp-mod-dark') || // JupyterLab\n                               (window.matchMedia && window.matchMedia('(prefers-color-scheme: dark)').matches); // System preference\n\n                if (isDark) {\n                    const styleId = 'custom-dark-theme-css';\n                    if (!document.getElementById(styleId)) {\n                        const style = document.createElement('style');\n                        style.id = styleId;\n                        style.textContent = `<style>\n    /* ========== TABLE STYLING ========== */\n    table {\n        border-collapse: collapse;\n        /* width: 100%; */\n        min-width: fit-content;\n        color: #ffffff !important;\n        background-color: rgba(40, 40, 40, 0.9) !important;\n        margin: 1em 0;\n    }\n\n    th, td {\n        padding: 8px 12px !important;\n        border: 1px solid rgba(255, 255, 255, 0.1) !important;\n        color: #ffffff !important;\n    }\n\n    th {\n        background-color: rgba(60, 60, 60, 0.95) !important;\n        font-weight: 600 !important;\n        letter-spacing: 0.5px;\n    }\n\n    tr:nth-child(even) { background-color: rgba(50, 50, 50, 0.9) !important; }\n    tr:nth-child(odd) { background-color: rgba(40, 40, 40, 0.9) !important; }\n    tr:hover { background-color: rgba(80, 80, 80, 0.95) !important; }\n\n    /* ========== COLLAPSIBLE SECTIONS ========== */\n    details {\n        margin: 0.8rem 0;\n        border-radius: 4px;\n        overflow: hidden;\n    }\n\n    details > summary {\n        color: #ffffff !important;\n        background-color: rgba(50, 50, 50, 0.9) !important;\n        padding: 8px 12px !important;\n        cursor: pointer;\n        list-style: none;\n        transition: all 0.2s ease;\n        position: relative;\n    }\n\n    details > summary::before {\n        content: \"▶\";\n        color: rgba(255, 255, 255, 0.7);\n        display: inline-block;\n        margin-right: 8px;\n        transition: transform 0.2s ease;\n        font-size: 0.9em;\n    }\n\n    details[open] > summary::before {\n        transform: rotate(90deg);\n    }\n\n    details[open] > summary {\n        border-radius: 4px 4px 0 0;\n    }\n\n    /* ========== DATA PAIR STYLING ========== */\n    .datavals {\n        background-color: rgba(40, 40, 40, 0.95) !important;\n        margin: 4px 0 !important;\n        padding: 6px 8px !important;\n        border-radius: 0 0 4px 4px;\n    }\n\n    .dataname, .dataval {\n        color: #ffffff !important;\n        padding: 6px 8px !important;\n        margin: 2px 0 !important;\n        font-family: monospace;\n        transition: background-color 0.15s ease;\n    }\n\n    .dataname {\n        background-color: rgba(60, 60, 60, 0.9) !important;\n        font-weight: 200;\n        border-radius: 3px;\n        display: inline-block;\n        min-width: 220px;\n        margin-right: 10px !important;\n    }\n\n    .dataval {\n        background-color: rgba(70, 70, 70, 0.9) !important;\n        border-radius: 3px;\n        display: inline-block;\n        word-break: break-word;\n        min-width: 120px;\n    }\n\n    /* Alternating highlight for data pairs */\n    .datavals > div:nth-child(4n+1),\n    .datavals > div:nth-child(4n+2) {\n        background-color: rgba(85, 85, 85, 0.9) !important;\n    }\n\n    .dataname:hover, .dataval:hover {\n        background-color: rgba(80, 80, 80, 0.95) !important;\n    }\n\n    .datavals > div:not(:last-child) {\n        margin-bottom: 5px !important;\n    }\n\n    /* ========== CHECKBOX STYLING ========== */\n    /* Style checkboxes within the table */\n    input[type=\"checkbox\"] {\n        width: 16px;\n        height: 16px;\n        accent-color: #4CAF50; /* Green color */\n    }\n\n    /* Alternative method: Custom styling */\n    input[type=\"checkbox\"] {\n        appearance: none; /* Hide default checkbox */\n        width: 16px;\n        height: 16px;\n        border: 2px solid #ccc;\n        border-radius: 3px;\n        background-color: transparent;\n        cursor: pointer;\n        position: relative;\n    }\n\n    /* Checked state */\n    input[type=\"checkbox\"]:checked {\n        background-color: #4CAF50; /* Green */\n        border-color: #4CAF50;\n    }\n\n    /* Custom checkmark */\n    input[type=\"checkbox\"]:checked::after {\n        content: \"✔\";\n        font-size: 12px;\n        color: white;\n        position: absolute;\n        top: 50%;\n        left: 50%;\n        transform: translate(-50%, -50%);\n    }\n\n</style>`;\n                        document.head.appendChild(style);\n                    }\n                }\n            })();\n",
      "text/plain": [
       "<IPython.core.display.Javascript object>"
      ]
     },
     "metadata": {},
     "output_type": "display_data"
    }
   ],
   "source": [
    "import numpy as np\n",
    "import matplotlib.pyplot as plt\n",
    "\n",
    "import agnlab\n",
    "import agnlab.models as models\n",
    "import agnlab.instrument as inst"
   ]
  },
  {
   "cell_type": "code",
   "execution_count": 2,
   "id": "1e2681c5",
   "metadata": {},
   "outputs": [],
   "source": [
    "wmin = 5000\n",
    "wmax = 6000"
   ]
  },
  {
   "cell_type": "code",
   "execution_count": 3,
   "id": "3d7e0f9c",
   "metadata": {},
   "outputs": [
    {
     "name": "stdout",
     "output_type": "stream",
     "text": [
      "Directory testfit/ created.\n"
     ]
    },
    {
     "data": {
      "text/html": [
       "<style>/*\n",
       "Copyright (C) 2020  Smithsonian Astrophysical Observatory\n",
       "\n",
       "\n",
       " This program is free software; you can redistribute it and/or modify\n",
       " it under the terms of the GNU General Public License as published by\n",
       " the Free Software Foundation; either version 3 of the License, or\n",
       " (at your option) any later version.\n",
       "\n",
       " This program is distributed in the hope that it will be useful,\n",
       " but WITHOUT ANY WARRANTY; without even the implied warranty of\n",
       " MERCHANTABILITY or FITNESS FOR A PARTICULAR PURPOSE.  See the\n",
       " GNU General Public License for more details.\n",
       "\n",
       " You should have received a copy of the GNU General Public License along\n",
       " with this program; if not, write to the Free Software Foundation, Inc.,\n",
       " 51 Franklin Street, Fifth Floor, Boston, MA 02110-1301 USA.\n",
       "\n",
       "*/\n",
       "\n",
       ":root {\n",
       "  --sherpa-border-color: var(--jp-border-color2, #e0e0e0);\n",
       "  --sherpa-background-color: var(--jp-layout-color0, white);\n",
       "  --sherpa-background-color-row-even: var(--jp-layout-color1, white);\n",
       "  --sherpa-background-color-row-odd: var(--jp-layout-color2, #eeeeee);\n",
       "\n",
       "  /* https://medium.com/ge-design/iot-cool-gray-is-a-great-background-color-for-data-visualization-ebf18c318418 */\n",
       "  --sherpa-background-color-dark1: #EBEFF2;\n",
       "  --sherpa-background-color-dark2: #D8E0E5;\n",
       "}\n",
       "\n",
       "div.sherpa-text-fallback {\n",
       "    display: none;\n",
       "}\n",
       "\n",
       "div.sherpa {\n",
       "    display: block;\n",
       "}\n",
       "\n",
       "div.sherpa details summary {\n",
       "    display: list-item;  /* needed for notebook, not lab */\n",
       "    font-size: larger;\n",
       "}\n",
       "\n",
       "div.sherpa details div.datavals {\n",
       "    display: grid;\n",
       "    grid-template-columns: 1fr 3fr;\n",
       "    column-gap: 0.5em;\n",
       "}\n",
       "\n",
       "div.sherpa div.dataname {\n",
       "    font-weight: bold;\n",
       "    border-right: 1px solid var(--sherpa-border-color);\n",
       "}\n",
       "\n",
       "div.sherpa div.dataval { }\n",
       "\n",
       "div.sherpa div.datavals div:nth-child(4n + 1) ,\n",
       "div.sherpa div.datavals div:nth-child(4n + 2) {\n",
       "    background: var(--sherpa-background-color-row-odd);\n",
       "}\n",
       "\n",
       "div.sherpa table.model tbody {\n",
       "    border-bottom: 1px solid var(--sherpa-border-color);\n",
       "}\n",
       "\n",
       "div.sherpa table.model tr.block {\n",
       "    border-top: 1px solid var(--sherpa-border-color);\n",
       "}\n",
       "\n",
       "div.sherpa table.model th.model-odd ,\n",
       "div.sherpa table.model th.model-even {\n",
       "    border-right: 1px solid var(--sherpa-border-color);\n",
       "}\n",
       "\n",
       "div.sherpa table.model th.model-odd {\n",
       "    background: var(--sherpa-background-color-dark1);\n",
       "}\n",
       "\n",
       "div.sherpa table.model th.model-even {\n",
       "    background: var(--sherpa-background-color-dark2);\n",
       "}\n",
       "\n",
       "div.sherpa .failed {\n",
       "    background: orange;\n",
       "    font-size: large;\n",
       "    padding: 1em;\n",
       "}\n",
       "</style><div class=\"sherpa-text-fallback\">&lt;TiedLorentzLines model instance &#x27;Test&#x27;&gt;</div><div hidden class=\"sherpa\"><details open><summary>Model</summary><table class=\"model\"><caption>Expression: Test</caption><thead><tr><th>Component</th><th>Parameter</th><th>Thawed</th><th>Value</th><th>Min</th><th>Max</th><th>Units</th></tr></thead><tbody><tr><th class=\"model-odd\" scope=\"rowgroup\" rowspan=11>Test</th><td>amp_TiII113_5072</td><td><input disabled type=\"checkbox\" checked></input></td><td>10.0</td><td>0.0</td><td>1000.0</td><td></td></tr><tr><td>amp_NI_5200</td><td><input disabled type=\"checkbox\" checked></input></td><td>10.0</td><td>0.0</td><td>1000.0</td><td></td></tr><tr><td>amp_NII_5755</td><td><input disabled type=\"checkbox\" checked></input></td><td>10.0</td><td>0.0</td><td>1000.0</td><td></td></tr><tr><td>amp_NII_5667</td><td><input disabled type=\"checkbox\" checked></input></td><td>10.0</td><td>0.0</td><td>1000.0</td><td></td></tr><tr><td>amp_NII_5676</td><td><input disabled type=\"checkbox\" checked></input></td><td>10.0</td><td>0.0</td><td>1000.0</td><td></td></tr><tr><td>amp_NII_5680</td><td><input disabled type=\"checkbox\" checked></input></td><td>10.0</td><td>0.0</td><td>1000.0</td><td></td></tr><tr><td>amp_NII_5686</td><td><input disabled type=\"checkbox\" checked></input></td><td>10.0</td><td>0.0</td><td>1000.0</td><td></td></tr><tr><td>amp_CIII_5696</td><td><input disabled type=\"checkbox\" checked></input></td><td>10.0</td><td>0.0</td><td>1000.0</td><td></td></tr><tr><td>amp_SiII_5958</td><td><input disabled type=\"checkbox\" checked></input></td><td>10.0</td><td>0.0</td><td>1000.0</td><td></td></tr><tr><td>offs_kms</td><td><input disabled type=\"checkbox\" checked></input></td><td>0.0</td><td>-500.0</td><td>500.0</td><td>km/s</td></tr><tr><td>fwhm</td><td><input disabled type=\"checkbox\" checked></input></td><td>10.0</td><td>1e-05</td><td>1000.0</td><td>km/s</td></tr></tbody></table></details></div>"
      ],
      "text/plain": [
       "<TiedLorentzLines model instance 'Test'>"
      ]
     },
     "execution_count": 3,
     "metadata": {},
     "output_type": "execute_result"
    }
   ],
   "source": [
    "path_to_folder='testfit/'\n",
    "models.init_lines_csv(wmin=wmin, wmax=wmax, dirpath=path_to_folder)\n",
    "\n",
    "narrow_m = models.TiedLorentzLines(['narrow_plus.csv'], name='Test',\n",
    "                                         fwhm=10, min_fwhm=1e-5, max_fwhm=1000,\n",
    "                                         offs_kms=0., min_offset=-500, max_offset=500,\n",
    "                                         amp=10, min_amp=0, max_amp=1000)\n",
    "narrow_m"
   ]
  },
  {
   "cell_type": "code",
   "execution_count": 4,
   "id": "54c75bbc",
   "metadata": {},
   "outputs": [],
   "source": [
    "# Load the response matrix\n",
    "rsploader = inst.InstRspLoader(inst='MUSE')"
   ]
  },
  {
   "cell_type": "code",
   "execution_count": 5,
   "id": "082ffe35",
   "metadata": {},
   "outputs": [],
   "source": [
    "# Create the wavelength array for the fake spectrum cropping the rsploader.wave array to the wmin and wmax\n",
    "wave = rsploader.wave[(rsploader.wave >= wmin) & (rsploader.wave <= wmax)]\n",
    "\n",
    "# Create the narrow fake spectrum\n",
    "source_spectrum = narrow_m(wave)"
   ]
  },
  {
   "cell_type": "code",
   "execution_count": 6,
   "id": "e1bdf383",
   "metadata": {},
   "outputs": [],
   "source": [
    "# Crop the response matrix to the same wavelength range\n",
    "rsp_matrix = rsploader.crop_matrix(wave=wave)\n",
    "\n",
    "# Instantiate the response matrix model\n",
    "rsp = inst.SpectralRsp(rsp_matrix)\n",
    "rspmod = rsp(narrow_m)"
   ]
  },
  {
   "cell_type": "code",
   "execution_count": 7,
   "id": "d2ea5339",
   "metadata": {},
   "outputs": [],
   "source": [
    "# Simulate the spectrum adding noise to the \n",
    "observed_spectrum = rspmod(wave)\n",
    "\n",
    "err_mag = 0.1\n",
    "err = np.zeros_like(observed_spectrum) + err_mag\n",
    "observed_spectrum += np.random.normal(0, err_mag, len(observed_spectrum))"
   ]
  },
  {
   "cell_type": "code",
   "execution_count": 8,
   "id": "dcba879c",
   "metadata": {},
   "outputs": [
    {
     "data": {
      "application/vnd.jupyter.widget-view+json": {
       "model_id": "348e4dbc95404eedb4df3ba4aa7d43f7",
       "version_major": 2,
       "version_minor": 0
      },
      "text/plain": [
       "Fitting trials:   0%|          | 0/10 [00:00<?, ?it/s]"
      ]
     },
     "metadata": {},
     "output_type": "display_data"
    }
   ],
   "source": [
    "# Fit the spectrum with the narrow model and with the repsonse model\n",
    "fspec = agnlab.Spectrum(wave=wave, flux=observed_spectrum, fluxerr=err)\n",
    "\n",
    "fspec.fit(narrow_m, ntrial=10)\n",
    "narrow_mod_arr = fspec.model(wave)"
   ]
  },
  {
   "cell_type": "code",
   "execution_count": 9,
   "id": "9ebd5337",
   "metadata": {},
   "outputs": [
    {
     "data": {
      "text/html": [
       "<style>/*\n",
       "Copyright (C) 2020  Smithsonian Astrophysical Observatory\n",
       "\n",
       "\n",
       " This program is free software; you can redistribute it and/or modify\n",
       " it under the terms of the GNU General Public License as published by\n",
       " the Free Software Foundation; either version 3 of the License, or\n",
       " (at your option) any later version.\n",
       "\n",
       " This program is distributed in the hope that it will be useful,\n",
       " but WITHOUT ANY WARRANTY; without even the implied warranty of\n",
       " MERCHANTABILITY or FITNESS FOR A PARTICULAR PURPOSE.  See the\n",
       " GNU General Public License for more details.\n",
       "\n",
       " You should have received a copy of the GNU General Public License along\n",
       " with this program; if not, write to the Free Software Foundation, Inc.,\n",
       " 51 Franklin Street, Fifth Floor, Boston, MA 02110-1301 USA.\n",
       "\n",
       "*/\n",
       "\n",
       ":root {\n",
       "  --sherpa-border-color: var(--jp-border-color2, #e0e0e0);\n",
       "  --sherpa-background-color: var(--jp-layout-color0, white);\n",
       "  --sherpa-background-color-row-even: var(--jp-layout-color1, white);\n",
       "  --sherpa-background-color-row-odd: var(--jp-layout-color2, #eeeeee);\n",
       "\n",
       "  /* https://medium.com/ge-design/iot-cool-gray-is-a-great-background-color-for-data-visualization-ebf18c318418 */\n",
       "  --sherpa-background-color-dark1: #EBEFF2;\n",
       "  --sherpa-background-color-dark2: #D8E0E5;\n",
       "}\n",
       "\n",
       "div.sherpa-text-fallback {\n",
       "    display: none;\n",
       "}\n",
       "\n",
       "div.sherpa {\n",
       "    display: block;\n",
       "}\n",
       "\n",
       "div.sherpa details summary {\n",
       "    display: list-item;  /* needed for notebook, not lab */\n",
       "    font-size: larger;\n",
       "}\n",
       "\n",
       "div.sherpa details div.datavals {\n",
       "    display: grid;\n",
       "    grid-template-columns: 1fr 3fr;\n",
       "    column-gap: 0.5em;\n",
       "}\n",
       "\n",
       "div.sherpa div.dataname {\n",
       "    font-weight: bold;\n",
       "    border-right: 1px solid var(--sherpa-border-color);\n",
       "}\n",
       "\n",
       "div.sherpa div.dataval { }\n",
       "\n",
       "div.sherpa div.datavals div:nth-child(4n + 1) ,\n",
       "div.sherpa div.datavals div:nth-child(4n + 2) {\n",
       "    background: var(--sherpa-background-color-row-odd);\n",
       "}\n",
       "\n",
       "div.sherpa table.model tbody {\n",
       "    border-bottom: 1px solid var(--sherpa-border-color);\n",
       "}\n",
       "\n",
       "div.sherpa table.model tr.block {\n",
       "    border-top: 1px solid var(--sherpa-border-color);\n",
       "}\n",
       "\n",
       "div.sherpa table.model th.model-odd ,\n",
       "div.sherpa table.model th.model-even {\n",
       "    border-right: 1px solid var(--sherpa-border-color);\n",
       "}\n",
       "\n",
       "div.sherpa table.model th.model-odd {\n",
       "    background: var(--sherpa-background-color-dark1);\n",
       "}\n",
       "\n",
       "div.sherpa table.model th.model-even {\n",
       "    background: var(--sherpa-background-color-dark2);\n",
       "}\n",
       "\n",
       "div.sherpa .failed {\n",
       "    background: orange;\n",
       "    font-size: large;\n",
       "    padding: 1em;\n",
       "}\n",
       "</style><div class=\"sherpa-text-fallback\">&lt;TiedLorentzLines model instance &#x27;Test&#x27;&gt;</div><div hidden class=\"sherpa\"><details open><summary>Model</summary><table class=\"model\"><caption>Expression: Test</caption><thead><tr><th>Component</th><th>Parameter</th><th>Thawed</th><th>Value</th><th>Min</th><th>Max</th><th>Units</th></tr></thead><tbody><tr><th class=\"model-odd\" scope=\"rowgroup\" rowspan=11>Test</th><td>amp_TiII113_5072</td><td><input disabled type=\"checkbox\" checked></input></td><td>0.14086046648647504</td><td>0.0</td><td>1000.0</td><td></td></tr><tr><td>amp_NI_5200</td><td><input disabled type=\"checkbox\" checked></input></td><td>1.1907630737556922</td><td>0.0</td><td>1000.0</td><td></td></tr><tr><td>amp_NII_5755</td><td><input disabled type=\"checkbox\" checked></input></td><td>0.12684142620710315</td><td>0.0</td><td>1000.0</td><td></td></tr><tr><td>amp_NII_5667</td><td><input disabled type=\"checkbox\" checked></input></td><td>4.164884666048074</td><td>0.0</td><td>1000.0</td><td></td></tr><tr><td>amp_NII_5676</td><td><input disabled type=\"checkbox\" checked></input></td><td>0.0</td><td>0.0</td><td>1000.0</td><td></td></tr><tr><td>amp_NII_5680</td><td><input disabled type=\"checkbox\" checked></input></td><td>0.14774638209525365</td><td>0.0</td><td>1000.0</td><td></td></tr><tr><td>amp_NII_5686</td><td><input disabled type=\"checkbox\" checked></input></td><td>0.24814432541334225</td><td>0.0</td><td>1000.0</td><td></td></tr><tr><td>amp_CIII_5696</td><td><input disabled type=\"checkbox\" checked></input></td><td>0.16158437221960265</td><td>0.0</td><td>1000.0</td><td></td></tr><tr><td>amp_SiII_5958</td><td><input disabled type=\"checkbox\" checked></input></td><td>0.318560470133964</td><td>0.0</td><td>1000.0</td><td></td></tr><tr><td>offs_kms</td><td><input disabled type=\"checkbox\" checked></input></td><td>4.978749833219866</td><td>-500.0</td><td>500.0</td><td>km/s</td></tr><tr><td>fwhm</td><td><input disabled type=\"checkbox\" checked></input></td><td>130.79102303103352</td><td>1e-05</td><td>1000.0</td><td>km/s</td></tr></tbody></table></details></div>"
      ],
      "text/plain": [
       "<TiedLorentzLines model instance 'Test'>"
      ]
     },
     "execution_count": 9,
     "metadata": {},
     "output_type": "execute_result"
    }
   ],
   "source": [
    "fspec.model"
   ]
  },
  {
   "cell_type": "code",
   "execution_count": 10,
   "id": "bfe344e7",
   "metadata": {},
   "outputs": [
    {
     "data": {
      "application/vnd.jupyter.widget-view+json": {
       "model_id": "82f721db4ef3469687aa6d676e7bbf8c",
       "version_major": 2,
       "version_minor": 0
      },
      "text/plain": [
       "Fitting trials:   0%|          | 0/10 [00:00<?, ?it/s]"
      ]
     },
     "metadata": {},
     "output_type": "display_data"
    }
   ],
   "source": [
    "fspec.fit(rspmod, ntrial=10)\n",
    "rsp_mod_arr = fspec.model(wave)"
   ]
  },
  {
   "cell_type": "code",
   "execution_count": 11,
   "id": "ac3c016c",
   "metadata": {},
   "outputs": [
    {
     "data": {
      "text/html": [
       "<style>/*\n",
       "Copyright (C) 2020  Smithsonian Astrophysical Observatory\n",
       "\n",
       "\n",
       " This program is free software; you can redistribute it and/or modify\n",
       " it under the terms of the GNU General Public License as published by\n",
       " the Free Software Foundation; either version 3 of the License, or\n",
       " (at your option) any later version.\n",
       "\n",
       " This program is distributed in the hope that it will be useful,\n",
       " but WITHOUT ANY WARRANTY; without even the implied warranty of\n",
       " MERCHANTABILITY or FITNESS FOR A PARTICULAR PURPOSE.  See the\n",
       " GNU General Public License for more details.\n",
       "\n",
       " You should have received a copy of the GNU General Public License along\n",
       " with this program; if not, write to the Free Software Foundation, Inc.,\n",
       " 51 Franklin Street, Fifth Floor, Boston, MA 02110-1301 USA.\n",
       "\n",
       "*/\n",
       "\n",
       ":root {\n",
       "  --sherpa-border-color: var(--jp-border-color2, #e0e0e0);\n",
       "  --sherpa-background-color: var(--jp-layout-color0, white);\n",
       "  --sherpa-background-color-row-even: var(--jp-layout-color1, white);\n",
       "  --sherpa-background-color-row-odd: var(--jp-layout-color2, #eeeeee);\n",
       "\n",
       "  /* https://medium.com/ge-design/iot-cool-gray-is-a-great-background-color-for-data-visualization-ebf18c318418 */\n",
       "  --sherpa-background-color-dark1: #EBEFF2;\n",
       "  --sherpa-background-color-dark2: #D8E0E5;\n",
       "}\n",
       "\n",
       "div.sherpa-text-fallback {\n",
       "    display: none;\n",
       "}\n",
       "\n",
       "div.sherpa {\n",
       "    display: block;\n",
       "}\n",
       "\n",
       "div.sherpa details summary {\n",
       "    display: list-item;  /* needed for notebook, not lab */\n",
       "    font-size: larger;\n",
       "}\n",
       "\n",
       "div.sherpa details div.datavals {\n",
       "    display: grid;\n",
       "    grid-template-columns: 1fr 3fr;\n",
       "    column-gap: 0.5em;\n",
       "}\n",
       "\n",
       "div.sherpa div.dataname {\n",
       "    font-weight: bold;\n",
       "    border-right: 1px solid var(--sherpa-border-color);\n",
       "}\n",
       "\n",
       "div.sherpa div.dataval { }\n",
       "\n",
       "div.sherpa div.datavals div:nth-child(4n + 1) ,\n",
       "div.sherpa div.datavals div:nth-child(4n + 2) {\n",
       "    background: var(--sherpa-background-color-row-odd);\n",
       "}\n",
       "\n",
       "div.sherpa table.model tbody {\n",
       "    border-bottom: 1px solid var(--sherpa-border-color);\n",
       "}\n",
       "\n",
       "div.sherpa table.model tr.block {\n",
       "    border-top: 1px solid var(--sherpa-border-color);\n",
       "}\n",
       "\n",
       "div.sherpa table.model th.model-odd ,\n",
       "div.sherpa table.model th.model-even {\n",
       "    border-right: 1px solid var(--sherpa-border-color);\n",
       "}\n",
       "\n",
       "div.sherpa table.model th.model-odd {\n",
       "    background: var(--sherpa-background-color-dark1);\n",
       "}\n",
       "\n",
       "div.sherpa table.model th.model-even {\n",
       "    background: var(--sherpa-background-color-dark2);\n",
       "}\n",
       "\n",
       "div.sherpa .failed {\n",
       "    background: orange;\n",
       "    font-size: large;\n",
       "    padding: 1em;\n",
       "}\n",
       "</style><div class=\"sherpa-text-fallback\">&lt;ConvolvedModel model instance &#x27;instrsp(Test)&#x27;&gt;</div><div hidden class=\"sherpa\"><details open><summary>Model</summary><table class=\"model\"><caption>Expression: instrsp(Test)</caption><thead><tr><th>Component</th><th>Parameter</th><th>Thawed</th><th>Value</th><th>Min</th><th>Max</th><th>Units</th></tr></thead><tbody><tr><th class=\"model-odd\" scope=\"rowgroup\" rowspan=11>Test</th><td>amp_TiII113_5072</td><td><input disabled type=\"checkbox\" checked></input></td><td>388.78373350805765</td><td>0.0</td><td>1000.0</td><td></td></tr><tr><td>amp_NI_5200</td><td><input disabled type=\"checkbox\" checked></input></td><td>989.9374366685321</td><td>0.0</td><td>1000.0</td><td></td></tr><tr><td>amp_NII_5755</td><td><input disabled type=\"checkbox\" checked></input></td><td>134.25485619014208</td><td>0.0</td><td>1000.0</td><td></td></tr><tr><td>amp_NII_5667</td><td><input disabled type=\"checkbox\" checked></input></td><td>886.3454034580473</td><td>0.0</td><td>1000.0</td><td></td></tr><tr><td>amp_NII_5676</td><td><input disabled type=\"checkbox\" checked></input></td><td>120.87890602184308</td><td>0.0</td><td>1000.0</td><td></td></tr><tr><td>amp_NII_5680</td><td><input disabled type=\"checkbox\" checked></input></td><td>189.80686402250285</td><td>0.0</td><td>1000.0</td><td></td></tr><tr><td>amp_NII_5686</td><td><input disabled type=\"checkbox\" checked></input></td><td>662.1649885798591</td><td>0.0</td><td>1000.0</td><td></td></tr><tr><td>amp_CIII_5696</td><td><input disabled type=\"checkbox\" checked></input></td><td>273.66225663084674</td><td>0.0</td><td>1000.0</td><td></td></tr><tr><td>amp_SiII_5958</td><td><input disabled type=\"checkbox\" checked></input></td><td>549.2203792803402</td><td>0.0</td><td>1000.0</td><td></td></tr><tr><td>offs_kms</td><td><input disabled type=\"checkbox\" checked></input></td><td>-6.208825949750205</td><td>-500.0</td><td>500.0</td><td>km/s</td></tr><tr><td>fwhm</td><td><input disabled type=\"checkbox\" checked></input></td><td>1.4907634469285163</td><td>1e-05</td><td>1000.0</td><td>km/s</td></tr></tbody></table></details></div>"
      ],
      "text/plain": [
       "<ConvolvedModel model instance 'instrsp(Test)'>"
      ]
     },
     "execution_count": 11,
     "metadata": {},
     "output_type": "execute_result"
    }
   ],
   "source": [
    "fspec.model"
   ]
  },
  {
   "cell_type": "code",
   "execution_count": 12,
   "id": "49022196",
   "metadata": {},
   "outputs": [
    {
     "data": {
      "image/png": "[encoded data removed]",
      "text/plain": [
       "<Figure size 640x480 with 1 Axes>"
      ]
     },
     "metadata": {},
     "output_type": "display_data"
    }
   ],
   "source": [
    "plt.figure()\n",
    "plt.plot(wave, observed_spectrum, 'k-', label='Observed spectrum')\n",
    "plt.plot(wave, narrow_mod_arr, 'r-', label='Model spectrum', alpha=0.8)\n",
    "plt.plot(wave, rsp_mod_arr, 'b-', label='Response model spectrum', alpha=0.8)\n",
    "plt.xlabel('Wavelength [Angstrom]')\n",
    "plt.ylabel('Flux [arbitrary units]')\n",
    "plt.legend()\n",
    "plt.margins(x=0)\n",
    "plt.show()"
   ]
  },
  {
   "cell_type": "code",
   "execution_count": 13,
   "id": "606aab3e",
   "metadata": {},
   "outputs": [],
   "source": [
    "import shutil\n",
    "shutil.rmtree(path_to_folder)"
   ]
  }
 ],
 "metadata": {
  "kernelspec": {
   "display_name": "musevenv",
   "language": "python",
   "name": "python3"
  },
  "language_info": {
   "codemirror_mode": {
    "name": "ipython",
    "version": 3
   },
   "file_extension": ".py",
   "mimetype": "text/x-python",
   "name": "python",
   "nbconvert_exporter": "python",
   "pygments_lexer": "ipython3",
   "version": "3.11.9"
  }
 },
 "nbformat": 4,
 "nbformat_minor": 5
}
